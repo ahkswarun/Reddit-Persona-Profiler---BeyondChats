{
 "cells": [
  {
   "cell_type": "markdown",
   "id": "0b23cbc7",
   "metadata": {},
   "source": [
    "To view all AI models accessible with your API key"
   ]
  },
  {
   "cell_type": "code",
   "execution_count": null,
   "id": "c026505d",
   "metadata": {},
   "outputs": [],
   "source": [
    "import google.generativeai as genai\n",
    "\n",
    "genai.configure(api_key=\"YOUR API KEY\")\n",
    "models = genai.list_models()\n",
    "for m in models:\n",
    "    print(m.name)"
   ]
  },
  {
   "cell_type": "markdown",
   "id": "4edfba9d",
   "metadata": {},
   "source": [
    "To confirm the API key is working, has sufficient quota, and hasn't hit rate limits."
   ]
  },
  {
   "cell_type": "code",
   "execution_count": null,
   "id": "9c436fde",
   "metadata": {},
   "outputs": [],
   "source": [
    "genai.configure(api_key=\"YOUR API KEY\")\n",
    "model = genai.GenerativeModel('models/gemini-1.5-flash-latest')\n",
    "\n",
    "try:\n",
    "    response = model.generate_content(\"Say hello!\")\n",
    "    print(response.text)\n",
    "except Exception as e:\n",
    "    print(\"Gemini API error:\", e)"
   ]
  }
 ],
 "metadata": {
  "language_info": {
   "name": "python"
  }
 },
 "nbformat": 4,
 "nbformat_minor": 5
}
